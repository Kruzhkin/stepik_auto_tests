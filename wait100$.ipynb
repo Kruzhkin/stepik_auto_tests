{
 "cells": [
  {
   "cell_type": "code",
   "execution_count": 41,
   "id": "f671c0f1",
   "metadata": {},
   "outputs": [],
   "source": [
    "from selenium import webdriver\n",
    "from selenium.webdriver.common.by import By\n",
    "import time\n",
    "import os\n",
    "\n",
    "try: \n",
    "    link = \"http://suninjuly.github.io/file_input.html\"\n",
    "    browser = webdriver.Chrome()\n",
    "    browser.get(link)\n",
    "    \n",
    "    browser.find_element(By.CSS_SELECTOR, '[name=\"firstname\"]').send_keys(\"Шаповалов\")\n",
    "    browser.find_element(By.CSS_SELECTOR, '[name=\"lastname\"]').send_keys(\"Иван\")\n",
    "    browser.find_element(By.CSS_SELECTOR, '[name=\"email\"]').send_keys(\"почта\")\n",
    "    \n",
    "    current_dir = os.path.abspath(os.path.dirname(\"Untitled.ipynb\"))\n",
    "    file_name = \"file_example.txt\"\n",
    "    file_path = os.path.join(current_dir, file_name)\n",
    "    \n",
    "    browser.find_element(By.CSS_SELECTOR, '[id=\"file\"]').send_keys(file_path)\n",
    "    browser.find_element(By.CSS_SELECTOR, \"button.btn\").click()\n",
    "    \n",
    "finally:\n",
    "    # ожидание чтобы визуально оценить результаты прохождения скрипта\n",
    "    time.sleep(5)\n",
    "    # закрываем браузер после всех манипуляций\n",
    "    browser.quit()"
   ]
  },
  {
   "cell_type": "code",
   "execution_count": null,
   "id": "f81fab39",
   "metadata": {},
   "outputs": [],
   "source": []
  }
 ],
 "metadata": {
  "kernelspec": {
   "display_name": "Python 3 (ipykernel)",
   "language": "python",
   "name": "python3"
  },
  "language_info": {
   "codemirror_mode": {
    "name": "ipython",
    "version": 3
   },
   "file_extension": ".py",
   "mimetype": "text/x-python",
   "name": "python",
   "nbconvert_exporter": "python",
   "pygments_lexer": "ipython3",
   "version": "3.11.0"
  }
 },
 "nbformat": 4,
 "nbformat_minor": 5
}
